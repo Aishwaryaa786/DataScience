{
 "cells": [
  {
   "cell_type": "markdown",
   "id": "e7346981",
   "metadata": {},
   "source": [
    "***Primitive  Data  Types  in  Python:***\n",
    "- Integer \n",
    "   - which is written as $int$ \n",
    "- Float \n",
    "     - which is written as $float$ \n",
    "- String \n",
    "     - which is written as $str$ \n",
    "- Boolean \n",
    "     - which is written as $bool$ \n",
    "    \n",
    "***One Non-Primitive  Data  Type  in  Python:***\n",
    "- Complex \n",
    "   - which is written as $complex$ \n",
    "    \n",
    "\n",
    "###### There is another type of data other than primitive datatypes which is widely used in DataScience which is *Complex* \n",
    "###### datatype in the below examples we will consider even this datatype.\n",
    "    "
   ]
  },
  {
   "cell_type": "markdown",
   "id": "e94fdeed",
   "metadata": {},
   "source": [
    "***What is Type Coversion?***\n",
    "\n",
    "\n",
    "***The process of coversion of data type from one type to another data type is called as Type Conversion.***"
   ]
  },
  {
   "cell_type": "markdown",
   "id": "3191985c",
   "metadata": {},
   "source": [
    "*Type Conversion of from integer to other datatypes*\n"
   ]
  },
  {
   "cell_type": "code",
   "execution_count": 30,
   "id": "fa258a17",
   "metadata": {},
   "outputs": [
    {
     "data": {
      "text/plain": [
       "int"
      ]
     },
     "execution_count": 30,
     "metadata": {},
     "output_type": "execute_result"
    }
   ],
   "source": [
    "num = 30\n",
    "type(num)"
   ]
  },
  {
   "cell_type": "code",
   "execution_count": 31,
   "id": "dc4aad7a",
   "metadata": {},
   "outputs": [
    {
     "data": {
      "text/plain": [
       "30.0"
      ]
     },
     "execution_count": 31,
     "metadata": {},
     "output_type": "execute_result"
    }
   ],
   "source": [
    "#int to float\n",
    "float(num)\n"
   ]
  },
  {
   "cell_type": "code",
   "execution_count": 32,
   "id": "f2168697",
   "metadata": {},
   "outputs": [
    {
     "data": {
      "text/plain": [
       "'30'"
      ]
     },
     "execution_count": 32,
     "metadata": {},
     "output_type": "execute_result"
    }
   ],
   "source": [
    "#int to String\n",
    "str(num)\n"
   ]
  },
  {
   "cell_type": "code",
   "execution_count": 34,
   "id": "e592adcf",
   "metadata": {},
   "outputs": [
    {
     "data": {
      "text/plain": [
       "True"
      ]
     },
     "execution_count": 34,
     "metadata": {},
     "output_type": "execute_result"
    }
   ],
   "source": [
    "#int to boolean\n",
    "bool(num)\n",
    "\n"
   ]
  },
  {
   "cell_type": "code",
   "execution_count": 33,
   "id": "3ec91a9f",
   "metadata": {},
   "outputs": [
    {
     "data": {
      "text/plain": [
       "(30+0j)"
      ]
     },
     "execution_count": 33,
     "metadata": {},
     "output_type": "execute_result"
    }
   ],
   "source": [
    "#int to complex\n",
    "complex(num)"
   ]
  },
  {
   "cell_type": "markdown",
   "id": "ab64cf59",
   "metadata": {},
   "source": [
    "*Type Conversion of from float to other datatypes*\n"
   ]
  },
  {
   "cell_type": "code",
   "execution_count": 35,
   "id": "88f5cfc0",
   "metadata": {},
   "outputs": [
    {
     "data": {
      "text/plain": [
       "float"
      ]
     },
     "execution_count": 35,
     "metadata": {},
     "output_type": "execute_result"
    }
   ],
   "source": [
    "num=40.34\n",
    "type(num)"
   ]
  },
  {
   "cell_type": "code",
   "execution_count": 36,
   "id": "fbbd8f22",
   "metadata": {},
   "outputs": [
    {
     "data": {
      "text/plain": [
       "40.34"
      ]
     },
     "execution_count": 36,
     "metadata": {},
     "output_type": "execute_result"
    }
   ],
   "source": [
    "#float to int\n",
    "float(num)\n"
   ]
  },
  {
   "cell_type": "code",
   "execution_count": 37,
   "id": "e5799bcd",
   "metadata": {},
   "outputs": [
    {
     "data": {
      "text/plain": [
       "'40.34'"
      ]
     },
     "execution_count": 37,
     "metadata": {},
     "output_type": "execute_result"
    }
   ],
   "source": [
    "#float to String\n",
    "str(num)\n"
   ]
  },
  {
   "cell_type": "code",
   "execution_count": 38,
   "id": "8061fd2a",
   "metadata": {},
   "outputs": [
    {
     "data": {
      "text/plain": [
       "True"
      ]
     },
     "execution_count": 38,
     "metadata": {},
     "output_type": "execute_result"
    }
   ],
   "source": [
    "#float to boolean\n",
    "bool(num)\n"
   ]
  },
  {
   "cell_type": "code",
   "execution_count": 39,
   "id": "fd8ac197",
   "metadata": {},
   "outputs": [
    {
     "data": {
      "text/plain": [
       "(40.34+0j)"
      ]
     },
     "execution_count": 39,
     "metadata": {},
     "output_type": "execute_result"
    }
   ],
   "source": [
    "#float to complex\n",
    "complex(num)"
   ]
  },
  {
   "cell_type": "markdown",
   "id": "bf17f4cc",
   "metadata": {},
   "source": [
    "*Type Conversion of from strings to other datatypes*\n"
   ]
  },
  {
   "cell_type": "code",
   "execution_count": 40,
   "id": "4be3d212",
   "metadata": {},
   "outputs": [
    {
     "data": {
      "text/plain": [
       "str"
      ]
     },
     "execution_count": 40,
     "metadata": {},
     "output_type": "execute_result"
    }
   ],
   "source": [
    "num = 'aishu'\n",
    "type(num)"
   ]
  },
  {
   "cell_type": "code",
   "execution_count": 41,
   "id": "7d247865",
   "metadata": {},
   "outputs": [
    {
     "ename": "ValueError",
     "evalue": "could not convert string to float: 'aishu'",
     "output_type": "error",
     "traceback": [
      "\u001b[1;31m---------------------------------------------------------------------------\u001b[0m",
      "\u001b[1;31mValueError\u001b[0m                                Traceback (most recent call last)",
      "\u001b[1;32m~\\AppData\\Local\\Temp\\ipykernel_12872\\3151950875.py\u001b[0m in \u001b[0;36m<module>\u001b[1;34m\u001b[0m\n\u001b[0;32m      1\u001b[0m \u001b[1;31m#String to int\u001b[0m\u001b[1;33m\u001b[0m\u001b[1;33m\u001b[0m\u001b[0m\n\u001b[1;32m----> 2\u001b[1;33m \u001b[0mfloat\u001b[0m\u001b[1;33m(\u001b[0m\u001b[0mnum\u001b[0m\u001b[1;33m)\u001b[0m\u001b[1;33m\u001b[0m\u001b[1;33m\u001b[0m\u001b[0m\n\u001b[0m\u001b[0;32m      3\u001b[0m \u001b[1;33m\u001b[0m\u001b[0m\n",
      "\u001b[1;31mValueError\u001b[0m: could not convert string to float: 'aishu'"
     ]
    }
   ],
   "source": [
    "#String to int\n",
    "float(num)\n",
    "\n"
   ]
  },
  {
   "cell_type": "code",
   "execution_count": 42,
   "id": "32d02820",
   "metadata": {},
   "outputs": [
    {
     "ename": "ValueError",
     "evalue": "could not convert string to float: 'aishu'",
     "output_type": "error",
     "traceback": [
      "\u001b[1;31m---------------------------------------------------------------------------\u001b[0m",
      "\u001b[1;31mValueError\u001b[0m                                Traceback (most recent call last)",
      "\u001b[1;32m~\\AppData\\Local\\Temp\\ipykernel_12872\\3159073119.py\u001b[0m in \u001b[0;36m<module>\u001b[1;34m\u001b[0m\n\u001b[0;32m      1\u001b[0m \u001b[1;31m#String to float\u001b[0m\u001b[1;33m\u001b[0m\u001b[1;33m\u001b[0m\u001b[0m\n\u001b[1;32m----> 2\u001b[1;33m \u001b[0mfloat\u001b[0m\u001b[1;33m(\u001b[0m\u001b[0mnum\u001b[0m\u001b[1;33m)\u001b[0m\u001b[1;33m\u001b[0m\u001b[1;33m\u001b[0m\u001b[0m\n\u001b[0m",
      "\u001b[1;31mValueError\u001b[0m: could not convert string to float: 'aishu'"
     ]
    }
   ],
   "source": [
    "#String to float\n",
    "float(num)\n"
   ]
  },
  {
   "cell_type": "code",
   "execution_count": 43,
   "id": "af77e7be",
   "metadata": {},
   "outputs": [
    {
     "data": {
      "text/plain": [
       "True"
      ]
     },
     "execution_count": 43,
     "metadata": {},
     "output_type": "execute_result"
    }
   ],
   "source": [
    "#String to boolean\n",
    "bool(num)\n"
   ]
  },
  {
   "cell_type": "code",
   "execution_count": 44,
   "id": "3826f19a",
   "metadata": {},
   "outputs": [
    {
     "ename": "ValueError",
     "evalue": "complex() arg is a malformed string",
     "output_type": "error",
     "traceback": [
      "\u001b[1;31m---------------------------------------------------------------------------\u001b[0m",
      "\u001b[1;31mValueError\u001b[0m                                Traceback (most recent call last)",
      "\u001b[1;32m~\\AppData\\Local\\Temp\\ipykernel_12872\\875166225.py\u001b[0m in \u001b[0;36m<module>\u001b[1;34m\u001b[0m\n\u001b[0;32m      1\u001b[0m \u001b[1;31m#String to complex\u001b[0m\u001b[1;33m\u001b[0m\u001b[1;33m\u001b[0m\u001b[0m\n\u001b[1;32m----> 2\u001b[1;33m \u001b[0mcomplex\u001b[0m\u001b[1;33m(\u001b[0m\u001b[0mnum\u001b[0m\u001b[1;33m)\u001b[0m\u001b[1;33m\u001b[0m\u001b[1;33m\u001b[0m\u001b[0m\n\u001b[0m",
      "\u001b[1;31mValueError\u001b[0m: complex() arg is a malformed string"
     ]
    }
   ],
   "source": [
    "#String to complex\n",
    "complex(num)"
   ]
  },
  {
   "cell_type": "markdown",
   "id": "2ecf7e49",
   "metadata": {},
   "source": [
    "- Except for Boolean all other datatypes gave error "
   ]
  },
  {
   "cell_type": "markdown",
   "id": "86c73b99",
   "metadata": {},
   "source": [
    "*Type Conversion of from Boolean to other datatypes*\n"
   ]
  },
  {
   "cell_type": "code",
   "execution_count": 49,
   "id": "7e4791e4",
   "metadata": {},
   "outputs": [
    {
     "data": {
      "text/plain": [
       "bool"
      ]
     },
     "execution_count": 49,
     "metadata": {},
     "output_type": "execute_result"
    }
   ],
   "source": [
    "num=True\n",
    "type(num)"
   ]
  },
  {
   "cell_type": "code",
   "execution_count": 50,
   "id": "c2061484",
   "metadata": {},
   "outputs": [
    {
     "data": {
      "text/plain": [
       "1.0"
      ]
     },
     "execution_count": 50,
     "metadata": {},
     "output_type": "execute_result"
    }
   ],
   "source": [
    "#boolean to int\n",
    "float(num)\n",
    "\n"
   ]
  },
  {
   "cell_type": "code",
   "execution_count": 51,
   "id": "af20e283",
   "metadata": {},
   "outputs": [
    {
     "data": {
      "text/plain": [
       "'True'"
      ]
     },
     "execution_count": 51,
     "metadata": {},
     "output_type": "execute_result"
    }
   ],
   "source": [
    "#boolean to String\n",
    "str(num)\n"
   ]
  },
  {
   "cell_type": "code",
   "execution_count": 52,
   "id": "98515270",
   "metadata": {},
   "outputs": [
    {
     "data": {
      "text/plain": [
       "True"
      ]
     },
     "execution_count": 52,
     "metadata": {},
     "output_type": "execute_result"
    }
   ],
   "source": [
    "#boolean to float\n",
    "bool(num)\n"
   ]
  },
  {
   "cell_type": "code",
   "execution_count": 53,
   "id": "0d2796e4",
   "metadata": {},
   "outputs": [
    {
     "data": {
      "text/plain": [
       "(1+0j)"
      ]
     },
     "execution_count": 53,
     "metadata": {},
     "output_type": "execute_result"
    }
   ],
   "source": [
    "#boolean to complex\n",
    "complex(num)"
   ]
  },
  {
   "cell_type": "markdown",
   "id": "facf4b14",
   "metadata": {},
   "source": [
    "*Type Conversion of from Complex to other datatypes*\n"
   ]
  },
  {
   "cell_type": "code",
   "execution_count": 55,
   "id": "83eae603",
   "metadata": {},
   "outputs": [
    {
     "data": {
      "text/plain": [
       "complex"
      ]
     },
     "execution_count": 55,
     "metadata": {},
     "output_type": "execute_result"
    }
   ],
   "source": [
    "num = 0+5j\n",
    "type(num)"
   ]
  },
  {
   "cell_type": "code",
   "execution_count": 56,
   "id": "c0387fbe",
   "metadata": {},
   "outputs": [
    {
     "ename": "TypeError",
     "evalue": "can't convert complex to float",
     "output_type": "error",
     "traceback": [
      "\u001b[1;31m---------------------------------------------------------------------------\u001b[0m",
      "\u001b[1;31mTypeError\u001b[0m                                 Traceback (most recent call last)",
      "\u001b[1;32m~\\AppData\\Local\\Temp\\ipykernel_12872\\4101385341.py\u001b[0m in \u001b[0;36m<module>\u001b[1;34m\u001b[0m\n\u001b[0;32m      1\u001b[0m \u001b[1;31m#complex to int\u001b[0m\u001b[1;33m\u001b[0m\u001b[1;33m\u001b[0m\u001b[0m\n\u001b[1;32m----> 2\u001b[1;33m \u001b[0mfloat\u001b[0m\u001b[1;33m(\u001b[0m\u001b[0mnum\u001b[0m\u001b[1;33m)\u001b[0m\u001b[1;33m\u001b[0m\u001b[1;33m\u001b[0m\u001b[0m\n\u001b[0m\u001b[0;32m      3\u001b[0m \u001b[1;33m\u001b[0m\u001b[0m\n",
      "\u001b[1;31mTypeError\u001b[0m: can't convert complex to float"
     ]
    }
   ],
   "source": [
    "#complex to int\n",
    "float(num)\n",
    "\n"
   ]
  },
  {
   "cell_type": "code",
   "execution_count": 57,
   "id": "191ca075",
   "metadata": {},
   "outputs": [
    {
     "data": {
      "text/plain": [
       "'5j'"
      ]
     },
     "execution_count": 57,
     "metadata": {},
     "output_type": "execute_result"
    }
   ],
   "source": [
    "#complex to String\n",
    "str(num)\n"
   ]
  },
  {
   "cell_type": "code",
   "execution_count": 58,
   "id": "ed9ec18c",
   "metadata": {},
   "outputs": [
    {
     "data": {
      "text/plain": [
       "True"
      ]
     },
     "execution_count": 58,
     "metadata": {},
     "output_type": "execute_result"
    }
   ],
   "source": [
    "#complex to boolean\n",
    "bool(num)\n"
   ]
  },
  {
   "cell_type": "code",
   "execution_count": 59,
   "id": "e34cf039",
   "metadata": {},
   "outputs": [
    {
     "data": {
      "text/plain": [
       "5j"
      ]
     },
     "execution_count": 59,
     "metadata": {},
     "output_type": "execute_result"
    }
   ],
   "source": [
    "#complex to float\n",
    "complex(num)"
   ]
  },
  {
   "cell_type": "code",
   "execution_count": 60,
   "id": "5603c15d",
   "metadata": {},
   "outputs": [
    {
     "data": {
      "text/plain": [
       "complex"
      ]
     },
     "execution_count": 60,
     "metadata": {},
     "output_type": "execute_result"
    }
   ],
   "source": [
    "num = 6+5j\n",
    "type(num)"
   ]
  },
  {
   "cell_type": "code",
   "execution_count": 61,
   "id": "fdd25aab",
   "metadata": {},
   "outputs": [
    {
     "ename": "TypeError",
     "evalue": "can't convert complex to float",
     "output_type": "error",
     "traceback": [
      "\u001b[1;31m---------------------------------------------------------------------------\u001b[0m",
      "\u001b[1;31mTypeError\u001b[0m                                 Traceback (most recent call last)",
      "\u001b[1;32m~\\AppData\\Local\\Temp\\ipykernel_12872\\3603277540.py\u001b[0m in \u001b[0;36m<module>\u001b[1;34m\u001b[0m\n\u001b[0;32m      1\u001b[0m \u001b[1;31m#complex to int\u001b[0m\u001b[1;33m\u001b[0m\u001b[1;33m\u001b[0m\u001b[0m\n\u001b[1;32m----> 2\u001b[1;33m \u001b[0mfloat\u001b[0m\u001b[1;33m(\u001b[0m\u001b[0mnum\u001b[0m\u001b[1;33m)\u001b[0m\u001b[1;33m\u001b[0m\u001b[1;33m\u001b[0m\u001b[0m\n\u001b[0m",
      "\u001b[1;31mTypeError\u001b[0m: can't convert complex to float"
     ]
    }
   ],
   "source": [
    "#complex to int\n",
    "float(num)\n"
   ]
  },
  {
   "cell_type": "code",
   "execution_count": 62,
   "id": "54a309bf",
   "metadata": {},
   "outputs": [
    {
     "data": {
      "text/plain": [
       "'(6+5j)'"
      ]
     },
     "execution_count": 62,
     "metadata": {},
     "output_type": "execute_result"
    }
   ],
   "source": [
    "#complex to String\n",
    "str(num)\n"
   ]
  },
  {
   "cell_type": "code",
   "execution_count": 63,
   "id": "0f4a1429",
   "metadata": {},
   "outputs": [
    {
     "data": {
      "text/plain": [
       "True"
      ]
     },
     "execution_count": 63,
     "metadata": {},
     "output_type": "execute_result"
    }
   ],
   "source": [
    "#complex to boolean\n",
    "bool(num)"
   ]
  },
  {
   "cell_type": "code",
   "execution_count": 64,
   "id": "11b41f83",
   "metadata": {},
   "outputs": [
    {
     "data": {
      "text/plain": [
       "(6+5j)"
      ]
     },
     "execution_count": 64,
     "metadata": {},
     "output_type": "execute_result"
    }
   ],
   "source": [
    "#complex to float\n",
    "complex(num)"
   ]
  },
  {
   "cell_type": "code",
   "execution_count": null,
   "id": "ac5018bb",
   "metadata": {},
   "outputs": [],
   "source": []
  }
 ],
 "metadata": {
  "kernelspec": {
   "display_name": "Python 3 (ipykernel)",
   "language": "python",
   "name": "python3"
  },
  "language_info": {
   "codemirror_mode": {
    "name": "ipython",
    "version": 3
   },
   "file_extension": ".py",
   "mimetype": "text/x-python",
   "name": "python",
   "nbconvert_exporter": "python",
   "pygments_lexer": "ipython3",
   "version": "3.9.13"
  }
 },
 "nbformat": 4,
 "nbformat_minor": 5
}
