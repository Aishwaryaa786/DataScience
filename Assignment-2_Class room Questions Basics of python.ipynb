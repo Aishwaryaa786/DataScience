{
 "cells": [
  {
   "cell_type": "code",
   "execution_count": 11,
   "id": "4d0089b8",
   "metadata": {},
   "outputs": [
    {
     "name": "stdout",
     "output_type": "stream",
     "text": [
      "Enter a number to find square root of the number: 9\n"
     ]
    },
    {
     "data": {
      "text/plain": [
       "81"
      ]
     },
     "execution_count": 11,
     "metadata": {},
     "output_type": "execute_result"
    }
   ],
   "source": [
    "#1.Ask the user to enter a number. Print out the square of the number, \n",
    "#Sample output is shown below.\n",
    "\n",
    "num=eval(input('Enter a number to find square root of the number: '))\n",
    "sqr_rt = (num*num)\n",
    "sqr_rt\n",
    "#print(f'The Sqare root of the entered numer is {sqr_rt}')"
   ]
  },
  {
   "cell_type": "code",
   "execution_count": 29,
   "id": "a197c6c8",
   "metadata": {},
   "outputs": [
    {
     "name": "stdout",
     "output_type": "stream",
     "text": [
      "Enter a number x in order to find x, 2x, 3x, 4x, and 5x of each number: 8\n",
      "8---16---24---32---40 "
     ]
    }
   ],
   "source": [
    "# Ask the user to enter a number x. print out x, 2x, 3x, 4x, and 5x, each separated by three dashes, like below.\n",
    "# Enter a number:  7---14---21---28---35\n",
    "x=eval(input('Enter a number x in order to find x, 2x, 3x, 4x, and 5x of each number: '))\n",
    "print(f'{x}',end='---')\n",
    "print(f'{2*x}',end='---')\n",
    "print(f'{3*x}',end='---')\n",
    "print(f'{4*x}',end='---')\n",
    "print(f'{5*x}',end=' ')\n",
    "#print(f'{x},{2*x},{3*x},{4*x},{5*x}',sep='---')"
   ]
  },
  {
   "cell_type": "code",
   "execution_count": 34,
   "id": "44488b93",
   "metadata": {},
   "outputs": [
    {
     "name": "stdout",
     "output_type": "stream",
     "text": [
      "Enter the weight in Kilograms60\n",
      "The weight in Pounds is 132.27735719999998\n"
     ]
    }
   ],
   "source": [
    "#Write a program that asks the user for a weight in kilograms and converts it to pounds. There are 2.2 pounds in a kilogram.\n",
    "kg = eval(input(\"Enter the weight in Kilograms\"))\n",
    "pound = (kg*2.20462262)\n",
    "print(f'The weight in Pounds is {pound}')\n"
   ]
  },
  {
   "cell_type": "code",
   "execution_count": 37,
   "id": "c91e820d",
   "metadata": {},
   "outputs": [
    {
     "name": "stdout",
     "output_type": "stream",
     "text": [
      "Enter the First number:1\n",
      "Enter the Second number:2\n",
      "Enter the Third number:3\n",
      "the total of first number 1, second number 2 and third number 3 is 6 and the average is 2.0\n"
     ]
    }
   ],
   "source": [
    "\n",
    "# Write a program that asks the user to enter three numbers (use three separate input statements).\n",
    "# Create variables called total and average that hold the sum and average of the three numbers and print out \n",
    "# the values of total and average.\n",
    "n1=eval(input('Enter the First number:'))\n",
    "n2=eval(input('Enter the Second number:'))\n",
    "n3=eval(input('Enter the Third number:'))\n",
    "sum = (n1+n2+n3)\n",
    "avg = sum/3\n",
    "print(f'the total of first number {n1}, second number {n2} and third number {n3} is {sum} and the average is {avg}')"
   ]
  },
  {
   "cell_type": "code",
   "execution_count": 46,
   "id": "2ae588a0",
   "metadata": {},
   "outputs": [
    {
     "name": "stdout",
     "output_type": "stream",
     "text": [
      "Enter the Price of the meal: 750\n",
      "Enter the tip for the meal: 3\n",
      "The tip percentage given is 22.5 and the total price of the meal including the tip is 772.5\n"
     ]
    }
   ],
   "source": [
    "# A lot of cell phones have tip calculators. \n",
    "# Write one Ask the user for the price of the meal and the percent tip they want to leave. \n",
    "# Then print both the tip amount and the total bill with the tip included\n",
    "\n",
    "price_meal=eval(input('Enter the Price of the meal: '))\n",
    "tip_percent = eval(input('Enter the tip for the meal: ')) \n",
    "tip= (price_meal/100)*tip_percent\n",
    "total_meal_price=price_meal+tip\n",
    "print(f\"The tip percentage given is {tip} and the total price of the meal including the tip is {total_meal_price}\")"
   ]
  },
  {
   "cell_type": "code",
   "execution_count": 55,
   "id": "c974059e",
   "metadata": {},
   "outputs": [
    {
     "name": "stdout",
     "output_type": "stream",
     "text": [
      "Father: Hey Baby!\n",
      "Daughter: Hello Daddy\n",
      "Father: I heard your exams are over, what about result\n",
      "Daughter: Yes dad! Results are out.\n",
      "Father: what is the percentage?\n",
      "Daughter: I will give my subject wise marks , you tell me the percentage \n",
      "Father : Okay!\n",
      "First Language:80\n",
      "Second language:90\n",
      "Third language:90\n",
      "Maths:85\n",
      "Science:90\n",
      "Daughter: Dad Now tell me how much percentage I got\n",
      "Father: Tell me the max marks of each subject: 100\n",
      "Father : The percentage of the total marks is 87.0\n"
     ]
    }
   ],
   "source": [
    "#Story between Father and Daughter\n",
    "\n",
    "print('Father: Hey Baby!')\n",
    "print('Daughter: Hello Daddy')\n",
    "print('Father: I heard your exams are over, what about result')\n",
    "print('Daughter: Yes dad! Results are out.')\n",
    "print('Father: what is the percentage?')\n",
    "print('Daughter: I will give my subject wise marks , you tell me the percentage ')\n",
    "print('Father : Okay!')\n",
    "m1=eval(input('First Language:'))\n",
    "m2=eval(input('Second language:'))\n",
    "m3=eval(input('Third language:'))\n",
    "m4=eval(input('Maths:'))\n",
    "m5=eval(input('Science:'))\n",
    "print('Daughter: Dad Now tell me how much percentage I got')\n",
    "max1=eval(input('Father: Tell me the max marks of each subject: '))\n",
    "#print('calculate the percentage of marks and print it')\n",
    "sum1=(m1+m2+m3+m4+m5)/5\n",
    "percent=(sum1/max1)*100\n",
    "print(f'Father : The percentage of the total marks is {percent}')\n"
   ]
  },
  {
   "cell_type": "code",
   "execution_count": null,
   "id": "eee26e2d",
   "metadata": {},
   "outputs": [],
   "source": []
  }
 ],
 "metadata": {
  "kernelspec": {
   "display_name": "Python 3 (ipykernel)",
   "language": "python",
   "name": "python3"
  },
  "language_info": {
   "codemirror_mode": {
    "name": "ipython",
    "version": 3
   },
   "file_extension": ".py",
   "mimetype": "text/x-python",
   "name": "python",
   "nbconvert_exporter": "python",
   "pygments_lexer": "ipython3",
   "version": "3.11.5"
  }
 },
 "nbformat": 4,
 "nbformat_minor": 5
}
