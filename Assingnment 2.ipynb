{
 "cells": [
  {
   "cell_type": "code",
   "execution_count": 3,
   "id": "28e8e759",
   "metadata": {},
   "outputs": [
    {
     "name": "stdout",
     "output_type": "stream",
     "text": [
      "Enter the basic Salary of Ramesh100000\n",
      "The total salary of Ramesh is 160000.0 which consists of Dear Allowance 40000.0, house rent allowance is 20000.0\n"
     ]
    }
   ],
   "source": [
    "# 1. Ramesh’s basic salary is input through the keyboard.\n",
    "# His dearness allowance is 40% of  basic salary, and house rent allowance is 20% of basic salary.\n",
    "# Write a program to  calculate his gross salary. \n",
    "def Salary():\n",
    "    ram_sal=eval(input(\"Enter the basic Salary of Ramesh\"))\n",
    "    da=(40*ram_sal)/100\n",
    "    hra=(20*ram_sal)/100\n",
    "    gross_sal=ram_sal+da+hra\n",
    "    print(f\"The total salary of Ramesh is {gross_sal} which consists of Dear Allowance {da}, house rent allowance is {hra}\")\n",
    "\n",
    "Salary()\n",
    "    \n"
   ]
  },
  {
   "cell_type": "code",
   "execution_count": 6,
   "id": "28be7a1c",
   "metadata": {},
   "outputs": [
    {
     "name": "stdout",
     "output_type": "stream",
     "text": [
      "Enter the distance between two Cities in km58\n",
      "The distance between cities in Km is 58, in meters is 0.058, in feet is 0.19028871391076116,in inches is 2.283464566929134, in centimeter is 0.8990017980035959\n"
     ]
    }
   ],
   "source": [
    "# 2. The distance between two cities (in km.) is input through the keyboard. \n",
    "# Write a program  to convert and print this distance in meters, feet, inches and centimeters. \n",
    "\n",
    "def Dist():\n",
    "    City_1=eval(input(\"Enter the distance between two Cities in km\"))\n",
    "    meters= City_1/1000\n",
    "    feet =meters/0.3048\n",
    "    inches= feet*12\n",
    "    cm=inches/2.54\n",
    "    print(f\"The distance between cities in Km is {City_1}, in meters is {meters}, in feet is {feet},in inches is {inches}, in centimeter is {cm}\")\n",
    "    \n",
    "Dist()    \n"
   ]
  },
  {
   "cell_type": "code",
   "execution_count": 12,
   "id": "dac91533",
   "metadata": {},
   "outputs": [
    {
     "name": "stdout",
     "output_type": "stream",
     "text": [
      "Enter the marks of subject m1: 56\n",
      "Enter the marks of subject m2: 56\n",
      "Enter the marks of subject m3: 56\n",
      "Enter the marks of subject m4: 65\n",
      "Enter the marks of subject m5: 56\n",
      "The aggregate score is 57.8 and the total percentage is 57.8%\n"
     ]
    }
   ],
   "source": [
    "# 3. If the marks obtained by a student in five different subjects are input through the  keyboard,\n",
    "# find out the aggregate marks and percentage marks obtained by the student.  \n",
    "# Assume that the maximum marks that can be obtained by a student in each subject is  100. \n",
    "\n",
    "def Marks(m1,m2,m3,m4,m5):\n",
    "    agg=(m1+m2+m3+m4+m5)/5\n",
    "    per=agg\n",
    "    print(f\"The aggregate score is {agg} and the total percentage is {per}%\")\n",
    "Marks(eval(input(\"Enter the marks of subject m1: \")),eval(input(\"Enter the marks of subject m2: \")),eval(input(\"Enter the marks of subject m3: \")),eval(input(\"Enter the marks of subject m4: \")),eval(input(\"Enter the marks of subject m5: \")))\n"
   ]
  },
  {
   "cell_type": "code",
   "execution_count": 15,
   "id": "3d09629e",
   "metadata": {},
   "outputs": [
    {
     "name": "stdout",
     "output_type": "stream",
     "text": [
      "Enter the Temperature of the city in Fahrenheit118\n",
      "The Temperature of the city in Celcious is 47.77777777777778 \n"
     ]
    }
   ],
   "source": [
    "# 4. Temperature of a city in Fahrenheit degrees is input through the keyboard.\n",
    "# Write a  program to convert this temperature into Centigrade degrees. \n",
    "\n",
    "def city_temp():\n",
    "    F=eval(input(\"Enter the Temperature of the city in Fahrenheit\"))\n",
    "    C=(F-32)/1.8\n",
    "    print(f\"The Temperature of the city in Celcious is {C} \")\n",
    "city_temp()"
   ]
  },
  {
   "cell_type": "code",
   "execution_count": 18,
   "id": "985d3dd3",
   "metadata": {},
   "outputs": [
    {
     "name": "stdout",
     "output_type": "stream",
     "text": [
      "Enter the length of the reactangle: 89\n",
      "Enter the  breadth of the reactangle: 89\n",
      "Enter the  radius of the cirle: 56\n",
      "The area of a rectangle is 7921 and the area of teh circle is 351.68\n"
     ]
    }
   ],
   "source": [
    "# 5. The length & breadth of a rectangle and radius of a circle are input through the  keyboard. \n",
    "# Write a program to calculate the area & perimeter of the rectangle, \n",
    "# and the  area & circumference of the circle. \n",
    "import time\n",
    "def Gemetry():\n",
    "    length=eval(input(\"Enter the length of the reactangle: \"))\n",
    "    time.sleep(1)\n",
    "    breadth=eval(input(\"Enter the  breadth of the reactangle: \"))\n",
    "    time.sleep(1)\n",
    "    radius = eval(input(\"Enter the  radius of the cirle: \"))\n",
    "    time.sleep(1)\n",
    "    react= length*breadth\n",
    "    cir=2*3.14*radius\n",
    "    time.sleep(2)\n",
    "    print(f\"The area of a rectangle is {react} and the area of teh circle is {cir}\")\n",
    "    \n",
    "Gemetry()"
   ]
  },
  {
   "cell_type": "code",
   "execution_count": 22,
   "id": "86cd03f5",
   "metadata": {},
   "outputs": [
    {
     "name": "stdout",
     "output_type": "stream",
     "text": [
      "Enter the value of C: 89\n",
      "Enter the value of D: 98\n",
      "The value of C is 89 and the value of D is 98\n",
      "The value of C is 98 and the value of D is 89 after switching\n"
     ]
    }
   ],
   "source": [
    "# 6. Two numbers are input through the keyboard into two locations C and D.\n",
    "# Write a  program to interchange the contents of C and D. \n",
    "import time\n",
    "def interchange():\n",
    "    C= eval(input(\"Enter the value of C: \"))\n",
    "    D= eval(input(\"Enter the value of D: \"))\n",
    "    time.sleep(1)\n",
    "    print(f\"The value of C is {C} and the value of D is {D}\")\n",
    "    X=C\n",
    "    C=D\n",
    "    D=X\n",
    "    time.sleep(2)\n",
    "    print(f\"The value of C is {C} and the value of D is {D} after switching\")\n",
    "interchange()\n",
    "    "
   ]
  },
  {
   "cell_type": "code",
   "execution_count": 29,
   "id": "a8360ac9",
   "metadata": {},
   "outputs": [
    {
     "name": "stdout",
     "output_type": "stream",
     "text": [
      "Enter a five-digit number: 79845\n",
      "Reversed number: 54897\n"
     ]
    }
   ],
   "source": [
    "# 7. If a five-digit number is input through the keyboard, write a program to reverse the  number. \n",
    "\n",
    "n1 = eval(input(\"Enter a five-digit number: \"))\n",
    "\n",
    "if 10000 <= n1 <= 99999:\n",
    "    \n",
    "    reversed_n1 = int(str(n1)[::-1])\n",
    "    print(\"Reversed number:\", reversed_n1)\n",
    "else:\n",
    "    print(\"Please enter a valid five-digit number.\")\n"
   ]
  },
  {
   "cell_type": "code",
   "execution_count": 30,
   "id": "a2dfd5c8",
   "metadata": {},
   "outputs": [
    {
     "name": "stdout",
     "output_type": "stream",
     "text": [
      "Enter a four-digit number: 4556\n",
      "Sum of first and last digit: 10\n"
     ]
    }
   ],
   "source": [
    "# 8. If a four-digit number is input through the keyboard, \n",
    "# write a program to obtain the sum of  the first and last digit of this number. \n",
    "\n",
    "nu2 = int(input(\"Enter a four-digit number: \"))\n",
    "if 1000 <= nu2 <= 9999:\n",
    "    first_digit = nu2 // 1000\n",
    "    last_digit = nu2 % 10\n",
    "    sum_first_last = first_digit + last_digit\n",
    "    print(\"Sum of first and last digit:\", sum_first_last)\n",
    "else:\n",
    "    print(\"Please enter a valid four-digit number.\")\n"
   ]
  },
  {
   "cell_type": "code",
   "execution_count": null,
   "id": "09cb990c",
   "metadata": {},
   "outputs": [],
   "source": [
    "# 9. In a town, the percentage of men is 52.\n",
    "# The percentage of total literacy is 48.\n",
    "# If total  percentage of literate men is 35 of the total population, \n",
    "# write a program to find the total  number of illiterate men and women if \n",
    "# the population of the town is 80,000. \n",
    "\n",
    "total_population = 80000\n",
    "percentage_men = 52\n",
    "percentage_total_literacy = 48\n",
    "percentage_literate_men = 35\n",
    "\n",
    "\n",
    "men_population = (percentage_men / 100) * total_population\n",
    "literate_men = (percentage_literate_men / 100) * total_population\n",
    "literate_women = (percentage_total_literacy / 100) * total_population - literate_men\n",
    "illiterate_men = men_population - literate_men\n",
    "illiterate_women = total_population - literate_men - literate_women\n",
    "print(\"Total number of illiterate men:\", int(illiterate_men))\n",
    "print(\"Total number of illiterate women:\", int(illiterate_women))\n"
   ]
  },
  {
   "cell_type": "code",
   "execution_count": null,
   "id": "6781de37",
   "metadata": {},
   "outputs": [],
   "source": [
    "# 10. A cashier has currency notes of denominations 10, 50 and 100.\n",
    "# If the amount to be  withdrawn is input through the keyboard in hundreds,\n",
    "# find the total number of currency  notes of each denomination the cashier will have\n",
    "# to give to the withdrawer.\n",
    "\n",
    "amount_in_hundreds = eval(input(\"Enter the amount to be withdrawn in hundreds: \"))\n",
    "\n",
    "num_100s = amount_in_hundreds\n",
    "num_50s = (amount_in_hundreds % 10) * 5\n",
    "num_10s = (amount_in_hundreds % 5) * 10\n",
    "\n",
    "print(\"Number of 100s:\", num_100s)\n",
    "print(\"Number of 50s:\", num_50s)\n",
    "print(\"Number of 10s:\", num_10s)\n"
   ]
  }
 ],
 "metadata": {
  "kernelspec": {
   "display_name": "Python 3 (ipykernel)",
   "language": "python",
   "name": "python3"
  },
  "language_info": {
   "codemirror_mode": {
    "name": "ipython",
    "version": 3
   },
   "file_extension": ".py",
   "mimetype": "text/x-python",
   "name": "python",
   "nbconvert_exporter": "python",
   "pygments_lexer": "ipython3",
   "version": "3.11.5"
  }
 },
 "nbformat": 4,
 "nbformat_minor": 5
}
