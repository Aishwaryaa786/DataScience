{
 "cells": [
  {
   "cell_type": "code",
   "execution_count": 33,
   "id": "c964f2b2",
   "metadata": {},
   "outputs": [
    {
     "name": "stdout",
     "output_type": "stream",
     "text": [
      "Enter the basic Salary of Ramesh100000\n",
      "The total salary of Ramesh is 160000.0 which consists of Dear Allowance 40000.0, house rent allowance is 20000.0\n"
     ]
    }
   ],
   "source": [
    "# 1. Ramesh’s basic salary is input through the keyboard.\n",
    "# His dearness allowance is 40% of  basic salary, and house rent allowance is 20% of basic salary.\n",
    "# Write a program to  calculate his gross salary. \n",
    "def Salary():\n",
    "    try:\n",
    "        \n",
    "        ram_sal=eval(input(\"Enter the basic Salary of Ramesh\"))\n",
    "        da=(40*ram_sal)/100\n",
    "        hra=(20*ram_sal)/100\n",
    "        gross_sal=ram_sal+da+hra\n",
    "        print(f\"The total salary of Ramesh is {gross_sal} which consists of Dear Allowance {da}, house rent allowance is {hra}\")\n",
    "    except Exception as e:\n",
    "        print(e)\n",
    "Salary()\n",
    "    \n"
   ]
  },
  {
   "cell_type": "code",
   "execution_count": 34,
   "id": "9a8101f6",
   "metadata": {},
   "outputs": [
    {
     "name": "stdout",
     "output_type": "stream",
     "text": [
      "Enter the distance between two Cities in km125\n",
      "The distance between cities in Km is 125, in meters is 0.125, in feet is 0.4101049868766404,in inches is 4.921259842519684, in centimeter is 1.9375038750077498\n"
     ]
    }
   ],
   "source": [
    "# 2. The distance between two cities (in km.) is input through the keyboard. \n",
    "# Write a program  to convert and print this distance in meters, feet, inches and centimeters. \n",
    "\n",
    "def Dist():\n",
    "    try:\n",
    "        City_1=eval(input(\"Enter the distance between two Cities in km\"))\n",
    "        meters= City_1/1000\n",
    "        feet =meters/0.3048\n",
    "        inches= feet*12\n",
    "        cm=inches/2.54\n",
    "        print(f\"The distance between cities in Km is {City_1}, in meters is {meters}, in feet is {feet},in inches is {inches}, in centimeter is {cm}\")\n",
    "    except Exception as e:\n",
    "        print(e)\n",
    "Dist()    \n"
   ]
  },
  {
   "cell_type": "code",
   "execution_count": 36,
   "id": "5f287095",
   "metadata": {},
   "outputs": [
    {
     "name": "stdout",
     "output_type": "stream",
     "text": [
      "Enter the marks of subject m1: 45\n",
      "Enter the marks of subject m2: 45\n",
      "Enter the marks of subject m3: 45\n",
      "Enter the marks of subject m4: 54\n",
      "Enter the marks of subject m5: 54\n",
      "The aggregate score is 48.6 and the total percentage is 48.6\n"
     ]
    }
   ],
   "source": [
    "# 3. If the marks obtained by a student in five different subjects are input through the  keyboard,\n",
    "# find out the aggregate marks and percentage marks obtained by the student.  \n",
    "# Assume that the maximum marks that can be obtained by a student in each subject is  100. \n",
    "\n",
    "def Marks(m1,m2,m3,m4,m5):\n",
    "    try:\n",
    "        \n",
    "        agg=(m1+m2+m3+m4+m5)/5\n",
    "        per=agg\n",
    "        print(f\"The aggregate score is {agg} and the total percentage is {per}\")\n",
    "    except Exception as e:\n",
    "        print(e)\n",
    "Marks(eval(input(\"Enter the marks of subject m1: \")),eval(input(\"Enter the marks of subject m2: \")),eval(input(\"Enter the marks of subject m3: \")),eval(input(\"Enter the marks of subject m4: \")),eval(input(\"Enter the marks of subject m5: \")))\n"
   ]
  },
  {
   "cell_type": "code",
   "execution_count": 37,
   "id": "f7765dec",
   "metadata": {},
   "outputs": [
    {
     "name": "stdout",
     "output_type": "stream",
     "text": [
      "Enter the Temperature of the city in Fahrenheit56\n",
      "The Temperature of the city in Celcious is 13.333333333333332 \n"
     ]
    }
   ],
   "source": [
    "# 4. Temperature of a city in Fahrenheit degrees is input through the keyboard.\n",
    "# Write a  program to convert this temperature into Centigrade degrees. \n",
    "\n",
    "def city_temp():\n",
    "    try:\n",
    "\n",
    "        F=eval(input(\"Enter the Temperature of the city in Fahrenheit\"))\n",
    "        C=(F-32)/1.8\n",
    "        print(f\"The Temperature of the city in Celcious is {C} \")\n",
    "    except Exception as e:\n",
    "        print(e)\n",
    "    \n",
    "city_temp()"
   ]
  },
  {
   "cell_type": "code",
   "execution_count": 38,
   "id": "b208f02e",
   "metadata": {},
   "outputs": [
    {
     "name": "stdout",
     "output_type": "stream",
     "text": [
      "Enter the length of the reactangle: 56\n",
      "Enter the  breadth of the reactangle: 65\n",
      "Enter the  radius of the cirle: 5\n",
      "The area of a rectangle is 3640 and the area of the circle is 31.400000000000002\n"
     ]
    }
   ],
   "source": [
    "# 5. The length & breadth of a rectangle and radius of a circle are input through the  keyboard. \n",
    "# Write a program to calculate the area & perimeter of the rectangle, \n",
    "# and the  area & circumference of the circle. \n",
    "import time\n",
    "def Gemetry():\n",
    "    try:\n",
    "        \n",
    "        length=eval(input(\"Enter the length of the reactangle: \"))\n",
    "        time.sleep(1)\n",
    "        breadth=eval(input(\"Enter the  breadth of the reactangle: \"))\n",
    "        time.sleep(1)\n",
    "        radius = eval(input(\"Enter the  radius of the cirle: \"))\n",
    "        time.sleep(1)\n",
    "        react= length*breadth\n",
    "        cir=2*3.14*radius\n",
    "        time.sleep(2)\n",
    "        print(f\"The area of a rectangle is {react} and the area of the circle is {cir}\")\n",
    "    except Exception as e:\n",
    "        print(e)\n",
    "    \n",
    "Gemetry()"
   ]
  },
  {
   "cell_type": "code",
   "execution_count": 39,
   "id": "cd595e72",
   "metadata": {},
   "outputs": [
    {
     "name": "stdout",
     "output_type": "stream",
     "text": [
      "Enter the value of C: 56\n",
      "Enter the value of D: 58\n",
      "The value of C is 56 and the value of D is 58\n",
      "The value of C is 58 and the value of D is 56 after switching\n"
     ]
    }
   ],
   "source": [
    "# 6. Two numbers are input through the keyboard into two locations C and D.\n",
    "# Write a  program to interchange the contents of C and D. \n",
    "import time\n",
    "def interchange():\n",
    "    try:\n",
    "        C= eval(input(\"Enter the value of C: \"))\n",
    "        D= eval(input(\"Enter the value of D: \"))\n",
    "        time.sleep(1)\n",
    "        print(f\"The value of C is {C} and the value of D is {D}\")\n",
    "        X=C\n",
    "        C=D\n",
    "        D=X\n",
    "        time.sleep(2)\n",
    "        print(f\"The value of C is {C} and the value of D is {D} after switching\")\n",
    "    except Exception as e:\n",
    "        print(e)\n",
    "interchange()"
   ]
  },
  {
   "cell_type": "raw",
   "id": "63767e05",
   "metadata": {},
   "source": [
    "# 7. If a five-digit number is input through the keyboard, write a program to reverse the  number. \n",
    "try:\n",
    "    n1 = eval(input(\"Enter a five-digit number: \"))\n",
    "\n",
    "    if 10000 <= n1 <= 99999:\n",
    "    \n",
    "        R=(n1%10)\n",
    "        t1=R*1000\n",
    "        Q=n1/10\n",
    "        R1=R%10\n",
    "        t2=R1*100\n",
    "        Q1=Q/10\n",
    "        R2=R1%10\n",
    "        t3=R2*10\n",
    "        Q2=Q1%10\n",
    "        t4=Q2\n",
    "        final=t1+t2+t3+t4\n",
    "        print(f\"The number which is entered is {n1} and the reversed number is {final} \")\n",
    "    \n",
    "except Exception as e:\n",
    "        print(e)\n"
   ]
  },
  {
   "cell_type": "code",
   "execution_count": 15,
   "id": "b1cb5bcf",
   "metadata": {},
   "outputs": [
    {
     "name": "stdout",
     "output_type": "stream",
     "text": [
      "Enter a five-digit number: 12345\n",
      "50000\n",
      "4000\n",
      "300\n",
      "20\n",
      "The number which is entered is 12345 and the reversed number is 54321 \n"
     ]
    }
   ],
   "source": [
    "# 7. If a five-digit number is input through the keyboard, write a program to reverse the  number. \n",
    "try:\n",
    "    n1 = eval(input(\"Enter a five-digit number: \"))\n",
    "\n",
    "    if 10000 <= n1 <= 99999:\n",
    "        Q=n1//10\n",
    "        R=(n1%10)\n",
    "        t1=R*10000\n",
    "        print(t1)\n",
    "        \n",
    "        Q1=Q//10\n",
    "        R1=Q%10\n",
    "        t2=R1*1000\n",
    "        print(t2)\n",
    "        \n",
    "        Q2=Q1//10\n",
    "        R2=Q1%10\n",
    "        t3=R2*100\n",
    "        print(t3)\n",
    "        \n",
    "        R3=Q2%10\n",
    "        Q3=Q2//10\n",
    "        t4=R3*10\n",
    "        print(t4)\n",
    "         \n",
    "        R4=Q3%10\n",
    "        Q4=Q3//10\n",
    "        t5=R4*10\n",
    "        \n",
    "        final=t1+t2+t3+t4+R4\n",
    "        print(f\"The number which is entered is {n1} and the reversed number is {final} \")\n",
    "    else:\n",
    "        print(\"The number is not in our expected range\")\n",
    "    \n",
    "except Exception as e:\n",
    "        print(e)"
   ]
  },
  {
   "cell_type": "code",
   "execution_count": 41,
   "id": "b297713c",
   "metadata": {},
   "outputs": [
    {
     "name": "stdout",
     "output_type": "stream",
     "text": [
      "Enter a four-digit number: 1245\n",
      "Sum of first and last digit: 6\n"
     ]
    }
   ],
   "source": [
    "# 8. If a four-digit number is input through the keyboard, \n",
    "# write a program to obtain the sum of  the first and last digit of this number. \n",
    "try:\n",
    "    nu2 = int(input(\"Enter a four-digit number: \"))\n",
    "    if 1000 <= nu2 <= 9999:\n",
    "        first_digit = nu2 // 1000\n",
    "        last_digit = nu2 % 10\n",
    "        sum_first_last = first_digit + last_digit\n",
    "        print(\"Sum of first and last digit:\", sum_first_last)\n",
    "    else:\n",
    "        print(\"Please enter a valid four-digit number.\")\n",
    "except Exception as e:\n",
    "        print(e)\n"
   ]
  },
  {
   "cell_type": "code",
   "execution_count": 42,
   "id": "5b4cd044",
   "metadata": {},
   "outputs": [
    {
     "name": "stdout",
     "output_type": "stream",
     "text": [
      "Total number of illiterate men: 13600\n",
      "Total number of illiterate women: 41600\n"
     ]
    }
   ],
   "source": [
    "# 9. In a town, the percentage of men is 52.\n",
    "# The percentage of total literacy is 48.\n",
    "# If total  percentage of literate men is 35 of the total population, \n",
    "# write a program to find the total  number of illiterate men and women if \n",
    "# the population of the town is 80,000. \n",
    "try:\n",
    "    total_population = 80000\n",
    "    percentage_men = 52\n",
    "    percentage_total_literacy = 48\n",
    "    percentage_literate_men = 35\n",
    "\n",
    "\n",
    "    men_population = (percentage_men / 100) * total_population\n",
    "    literate_men = (percentage_literate_men / 100) * total_population\n",
    "    literate_women = (percentage_total_literacy / 100) * total_population - literate_men\n",
    "    illiterate_men = men_population - literate_men\n",
    "    illiterate_women = total_population - literate_men - literate_women\n",
    "    print(\"Total number of illiterate men:\", int(illiterate_men))\n",
    "    print(\"Total number of illiterate women:\", int(illiterate_women))\n",
    "except Exception as e:\n",
    "        print(e)"
   ]
  },
  {
   "cell_type": "code",
   "execution_count": 43,
   "id": "15161649",
   "metadata": {},
   "outputs": [
    {
     "name": "stdout",
     "output_type": "stream",
     "text": [
      "Enter the amount to be withdrawn in hundreds: 500\n",
      "Number of 100s: 500\n",
      "Number of 50s: 0\n",
      "Number of 10s: 0\n"
     ]
    }
   ],
   "source": [
    "# 10. A cashier has currency notes of denominations 10, 50 and 100.\n",
    "# If the amount to be  withdrawn is input through the keyboard in hundreds,\n",
    "# find the total number of currency  notes of each denomination the cashier will have\n",
    "# to give to the withdrawer.\n",
    "                    # try:\n",
    "                    #     amount_in_hundreds = eval(input(\"Enter the amount to be withdrawn in hundreds: \"))\n",
    "\n",
    "                    #     num_100s = amount_in_hundreds\n",
    "                    #     num_50s = (amount_in_hundreds % 10) * 5\n",
    "                    #     num_10s = (amount_in_hundreds % 5) * 10\n",
    "\n",
    "                    #     print(\"Number of 100s:\", num_100s)\n",
    "                    #     print(\"Number of 50s:\", num_50s)\n",
    "                    #     print(\"Number of 10s:\", num_10s)\n",
    "                    # except Exception as e:\n",
    "                    #         print(e)\n",
    "\n",
    "                    \n",
    "                    \n",
    "                    \n",
    "                    \n",
    "                    \n",
    "                    \n",
    "                    \n",
    "                    \n",
    "                    \n",
    "                    "
   ]
  },
  {
   "cell_type": "code",
   "execution_count": null,
   "id": "63dfd636",
   "metadata": {},
   "outputs": [],
   "source": []
  }
 ],
 "metadata": {
  "kernelspec": {
   "display_name": "Python 3 (ipykernel)",
   "language": "python",
   "name": "python3"
  },
  "language_info": {
   "codemirror_mode": {
    "name": "ipython",
    "version": 3
   },
   "file_extension": ".py",
   "mimetype": "text/x-python",
   "name": "python",
   "nbconvert_exporter": "python",
   "pygments_lexer": "ipython3",
   "version": "3.11.5"
  }
 },
 "nbformat": 4,
 "nbformat_minor": 5
}
